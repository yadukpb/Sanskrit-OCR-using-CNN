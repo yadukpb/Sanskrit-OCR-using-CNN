{
 "cells": [
  {
   "cell_type": "code",
   "execution_count": 6,
   "id": "c9f57055",
   "metadata": {},
   "outputs": [],
   "source": [
    "import numpy as np\n",
    "import pandas as pd\n",
    "import matplotlib.pyplot as plt\n",
    "import seaborn as sns"
   ]
  },
  {
   "cell_type": "code",
   "execution_count": 7,
   "id": "d4c646e2",
   "metadata": {},
   "outputs": [],
   "source": [
    "from sklearn.model_selection import train_test_split\n",
    "from sklearn.preprocessing import MinMaxScaler, LabelEncoder\n",
    "from sklearn.ensemble import RandomForestClassifier\n",
    "from sklearn.metrics import classification_report, confusion_matrix"
   ]
  },
  {
   "cell_type": "code",
   "execution_count": 8,
   "id": "900722e0",
   "metadata": {},
   "outputs": [
    {
     "name": "stderr",
     "output_type": "stream",
     "text": [
      "2024-04-29 21:39:16.232038: I tensorflow/core/platform/cpu_feature_guard.cc:210] This TensorFlow binary is optimized to use available CPU instructions in performance-critical operations.\n",
      "To enable the following instructions: AVX2 FMA, in other operations, rebuild TensorFlow with the appropriate compiler flags.\n",
      "2024-04-29 21:39:17.526041: W tensorflow/compiler/tf2tensorrt/utils/py_utils.cc:38] TF-TRT Warning: Could not find TensorRT\n"
     ]
    }
   ],
   "source": [
    "import tensorflow as tf\n",
    "from tensorflow.keras.models import Sequential\n",
    "from tensorflow.keras.layers import Conv2D, MaxPooling2D, Dropout, Flatten, Dense\n",
    "from tensorflow.keras.callbacks import ModelCheckpoint, EarlyStopping\n",
    "from tensorflow.keras.preprocessing.image import ImageDataGenerator"
   ]
  },
  {
   "cell_type": "code",
   "execution_count": 9,
   "id": "f271b881",
   "metadata": {},
   "outputs": [],
   "source": [
    "# Load the data\n",
    "file_path = \"/home/yadu/Desktop/data.csv\"\n",
    "data = pd.read_csv(file_path)"
   ]
  },
  {
   "cell_type": "code",
   "execution_count": 10,
   "id": "25f6c6a5",
   "metadata": {},
   "outputs": [
    {
     "name": "stdout",
     "output_type": "stream",
     "text": [
      "       pixel_0000  pixel_0001  pixel_0002  pixel_0003  pixel_0004  pixel_0005  \\\n",
      "0               0           0           0           0           0           0   \n",
      "1               0           0           0           0           0           0   \n",
      "2               0           0           0           0           0           0   \n",
      "3               0           0           0           0           0           0   \n",
      "4               0           0           0           0           0           0   \n",
      "...           ...         ...         ...         ...         ...         ...   \n",
      "91995           0           0           0           0           0           0   \n",
      "91996           0           0           0           0           0           0   \n",
      "91997           0           0           0           0           0           0   \n",
      "91998           0           0           0           0           0           0   \n",
      "91999           0           0           0           0           0           0   \n",
      "\n",
      "       pixel_0006  pixel_0007  pixel_0008  pixel_0009  ...  pixel_1015  \\\n",
      "0               0           0           0           0  ...           0   \n",
      "1               0           0           0           0  ...           0   \n",
      "2               0           0           0           0  ...           0   \n",
      "3               0           0           0           0  ...           0   \n",
      "4               0           0           0           0  ...           0   \n",
      "...           ...         ...         ...         ...  ...         ...   \n",
      "91995           0           0           0           0  ...           0   \n",
      "91996           0           0           0           0  ...           0   \n",
      "91997           0           0           0           0  ...           0   \n",
      "91998           0           0           0           0  ...           0   \n",
      "91999           0           0           0           0  ...           0   \n",
      "\n",
      "       pixel_1016  pixel_1017  pixel_1018  pixel_1019  pixel_1020  pixel_1021  \\\n",
      "0               0           0           0           0           0           0   \n",
      "1               0           0           0           0           0           0   \n",
      "2               0           0           0           0           0           0   \n",
      "3               0           0           0           0           0           0   \n",
      "4               0           0           0           0           0           0   \n",
      "...           ...         ...         ...         ...         ...         ...   \n",
      "91995           0           0           0           0           0           0   \n",
      "91996           0           0           0           0           0           0   \n",
      "91997           0           0           0           0           0           0   \n",
      "91998           0           0           0           0           0           0   \n",
      "91999           0           0           0           0           0           0   \n",
      "\n",
      "       pixel_1022  pixel_1023        character  \n",
      "0               0           0  character_01_ka  \n",
      "1               0           0  character_01_ka  \n",
      "2               0           0  character_01_ka  \n",
      "3               0           0  character_01_ka  \n",
      "4               0           0  character_01_ka  \n",
      "...           ...         ...              ...  \n",
      "91995           0           0          digit_9  \n",
      "91996           0           0          digit_9  \n",
      "91997           0           0          digit_9  \n",
      "91998           0           0          digit_9  \n",
      "91999           0           0          digit_9  \n",
      "\n",
      "[92000 rows x 1025 columns]\n"
     ]
    }
   ],
   "source": [
    "print(data)"
   ]
  },
  {
   "cell_type": "code",
   "execution_count": 11,
   "id": "6dc45edd",
   "metadata": {},
   "outputs": [],
   "source": [
    "# Data exploration and preprocessing\n",
    "X = data.iloc[:, :-1]\n",
    "y = data.iloc[:, -1]"
   ]
  },
  {
   "cell_type": "code",
   "execution_count": 12,
   "id": "e60a6d41",
   "metadata": {},
   "outputs": [],
   "source": [
    "# Scale pixel values between 0 and 1\n",
    "scaler = MinMaxScaler()\n",
    "X_scaled = scaler.fit_transform(X)"
   ]
  },
  {
   "cell_type": "code",
   "execution_count": 13,
   "id": "a98329c8",
   "metadata": {},
   "outputs": [],
   "source": [
    "# Splitting the data\n",
    "X_train, X_test, y_train, y_test = train_test_split(X_scaled, y, test_size=0.30, random_state=42)"
   ]
  },
  {
   "cell_type": "code",
   "execution_count": 14,
   "id": "f9571ec1",
   "metadata": {},
   "outputs": [],
   "source": [
    "# Encode target labels\n",
    "label_encoder = LabelEncoder()\n",
    "y_train_encoded = label_encoder.fit_transform(y_train)\n",
    "y_test_encoded = label_encoder.transform(y_test)"
   ]
  },
  {
   "cell_type": "code",
   "execution_count": 15,
   "id": "025b9ef8",
   "metadata": {},
   "outputs": [],
   "source": [
    "# Reshape data for CNN\n",
    "img_height, img_width = 32, 32\n",
    "X_train_cnn = X_train.reshape(-1, img_height, img_width, 1)\n",
    "X_test_cnn = X_test.reshape(-1, img_height, img_width, 1)\n"
   ]
  },
  {
   "cell_type": "code",
   "execution_count": 17,
   "id": "74b8054a",
   "metadata": {},
   "outputs": [],
   "source": [
    "# CNN Model\n",
    "model = Sequential([\n",
    "    Conv2D(64, kernel_size=(3, 3), activation='relu', input_shape=(img_height, img_width, 1)),\n",
    "    MaxPooling2D(pool_size=(2, 2)),\n",
    "    Dropout(0.25),\n",
    "    Conv2D(64, kernel_size=(3, 3), activation='relu'),\n",
    "    MaxPooling2D(pool_size=(2, 2)),\n",
    "    Dropout(0.25),\n",
    "    Flatten(),\n",
    "    Dense(128, activation='relu'),\n",
    "    Dense(64, activation='relu'),\n",
    "    Dense(len(label_encoder.classes_), activation='softmax')\n",
    "])"
   ]
  },
  {
   "cell_type": "code",
   "execution_count": 27,
   "id": "bf2371c2",
   "metadata": {},
   "outputs": [
    {
     "name": "stdout",
     "output_type": "stream",
     "text": [
      "\n",
      "=== Model Summary ===\n",
      "\n"
     ]
    },
    {
     "data": {
      "text/html": [
       "<pre style=\"white-space:pre;overflow-x:auto;line-height:normal;font-family:Menlo,'DejaVu Sans Mono',consolas,'Courier New',monospace\"><span style=\"font-weight: bold\">Model: \"sequential_1\"</span>\n",
       "</pre>\n"
      ],
      "text/plain": [
       "\u001b[1mModel: \"sequential_1\"\u001b[0m\n"
      ]
     },
     "metadata": {},
     "output_type": "display_data"
    },
    {
     "data": {
      "text/html": [
       "<pre style=\"white-space:pre;overflow-x:auto;line-height:normal;font-family:Menlo,'DejaVu Sans Mono',consolas,'Courier New',monospace\">┏━━━━━━━━━━━━━━━━━━━━━━━━━━━━━━━━━┳━━━━━━━━━━━━━━━━━━━━━━━━┳━━━━━━━━━━━━━━━┓\n",
       "┃<span style=\"font-weight: bold\"> Layer (type)                    </span>┃<span style=\"font-weight: bold\"> Output Shape           </span>┃<span style=\"font-weight: bold\">       Param # </span>┃\n",
       "┡━━━━━━━━━━━━━━━━━━━━━━━━━━━━━━━━━╇━━━━━━━━━━━━━━━━━━━━━━━━╇━━━━━━━━━━━━━━━┩\n",
       "│ conv2d_2 (<span style=\"color: #0087ff; text-decoration-color: #0087ff\">Conv2D</span>)               │ (<span style=\"color: #00d7ff; text-decoration-color: #00d7ff\">None</span>, <span style=\"color: #00af00; text-decoration-color: #00af00\">30</span>, <span style=\"color: #00af00; text-decoration-color: #00af00\">30</span>, <span style=\"color: #00af00; text-decoration-color: #00af00\">64</span>)     │           <span style=\"color: #00af00; text-decoration-color: #00af00\">640</span> │\n",
       "├─────────────────────────────────┼────────────────────────┼───────────────┤\n",
       "│ max_pooling2d_2 (<span style=\"color: #0087ff; text-decoration-color: #0087ff\">MaxPooling2D</span>)  │ (<span style=\"color: #00d7ff; text-decoration-color: #00d7ff\">None</span>, <span style=\"color: #00af00; text-decoration-color: #00af00\">15</span>, <span style=\"color: #00af00; text-decoration-color: #00af00\">15</span>, <span style=\"color: #00af00; text-decoration-color: #00af00\">64</span>)     │             <span style=\"color: #00af00; text-decoration-color: #00af00\">0</span> │\n",
       "├─────────────────────────────────┼────────────────────────┼───────────────┤\n",
       "│ dropout_2 (<span style=\"color: #0087ff; text-decoration-color: #0087ff\">Dropout</span>)             │ (<span style=\"color: #00d7ff; text-decoration-color: #00d7ff\">None</span>, <span style=\"color: #00af00; text-decoration-color: #00af00\">15</span>, <span style=\"color: #00af00; text-decoration-color: #00af00\">15</span>, <span style=\"color: #00af00; text-decoration-color: #00af00\">64</span>)     │             <span style=\"color: #00af00; text-decoration-color: #00af00\">0</span> │\n",
       "├─────────────────────────────────┼────────────────────────┼───────────────┤\n",
       "│ conv2d_3 (<span style=\"color: #0087ff; text-decoration-color: #0087ff\">Conv2D</span>)               │ (<span style=\"color: #00d7ff; text-decoration-color: #00d7ff\">None</span>, <span style=\"color: #00af00; text-decoration-color: #00af00\">13</span>, <span style=\"color: #00af00; text-decoration-color: #00af00\">13</span>, <span style=\"color: #00af00; text-decoration-color: #00af00\">64</span>)     │        <span style=\"color: #00af00; text-decoration-color: #00af00\">36,928</span> │\n",
       "├─────────────────────────────────┼────────────────────────┼───────────────┤\n",
       "│ max_pooling2d_3 (<span style=\"color: #0087ff; text-decoration-color: #0087ff\">MaxPooling2D</span>)  │ (<span style=\"color: #00d7ff; text-decoration-color: #00d7ff\">None</span>, <span style=\"color: #00af00; text-decoration-color: #00af00\">6</span>, <span style=\"color: #00af00; text-decoration-color: #00af00\">6</span>, <span style=\"color: #00af00; text-decoration-color: #00af00\">64</span>)       │             <span style=\"color: #00af00; text-decoration-color: #00af00\">0</span> │\n",
       "├─────────────────────────────────┼────────────────────────┼───────────────┤\n",
       "│ dropout_3 (<span style=\"color: #0087ff; text-decoration-color: #0087ff\">Dropout</span>)             │ (<span style=\"color: #00d7ff; text-decoration-color: #00d7ff\">None</span>, <span style=\"color: #00af00; text-decoration-color: #00af00\">6</span>, <span style=\"color: #00af00; text-decoration-color: #00af00\">6</span>, <span style=\"color: #00af00; text-decoration-color: #00af00\">64</span>)       │             <span style=\"color: #00af00; text-decoration-color: #00af00\">0</span> │\n",
       "├─────────────────────────────────┼────────────────────────┼───────────────┤\n",
       "│ flatten_1 (<span style=\"color: #0087ff; text-decoration-color: #0087ff\">Flatten</span>)             │ (<span style=\"color: #00d7ff; text-decoration-color: #00d7ff\">None</span>, <span style=\"color: #00af00; text-decoration-color: #00af00\">2304</span>)           │             <span style=\"color: #00af00; text-decoration-color: #00af00\">0</span> │\n",
       "├─────────────────────────────────┼────────────────────────┼───────────────┤\n",
       "│ dense_3 (<span style=\"color: #0087ff; text-decoration-color: #0087ff\">Dense</span>)                 │ (<span style=\"color: #00d7ff; text-decoration-color: #00d7ff\">None</span>, <span style=\"color: #00af00; text-decoration-color: #00af00\">128</span>)            │       <span style=\"color: #00af00; text-decoration-color: #00af00\">295,040</span> │\n",
       "├─────────────────────────────────┼────────────────────────┼───────────────┤\n",
       "│ dense_4 (<span style=\"color: #0087ff; text-decoration-color: #0087ff\">Dense</span>)                 │ (<span style=\"color: #00d7ff; text-decoration-color: #00d7ff\">None</span>, <span style=\"color: #00af00; text-decoration-color: #00af00\">64</span>)             │         <span style=\"color: #00af00; text-decoration-color: #00af00\">8,256</span> │\n",
       "├─────────────────────────────────┼────────────────────────┼───────────────┤\n",
       "│ dense_5 (<span style=\"color: #0087ff; text-decoration-color: #0087ff\">Dense</span>)                 │ (<span style=\"color: #00d7ff; text-decoration-color: #00d7ff\">None</span>, <span style=\"color: #00af00; text-decoration-color: #00af00\">46</span>)             │         <span style=\"color: #00af00; text-decoration-color: #00af00\">2,990</span> │\n",
       "└─────────────────────────────────┴────────────────────────┴───────────────┘\n",
       "</pre>\n"
      ],
      "text/plain": [
       "┏━━━━━━━━━━━━━━━━━━━━━━━━━━━━━━━━━┳━━━━━━━━━━━━━━━━━━━━━━━━┳━━━━━━━━━━━━━━━┓\n",
       "┃\u001b[1m \u001b[0m\u001b[1mLayer (type)                   \u001b[0m\u001b[1m \u001b[0m┃\u001b[1m \u001b[0m\u001b[1mOutput Shape          \u001b[0m\u001b[1m \u001b[0m┃\u001b[1m \u001b[0m\u001b[1m      Param #\u001b[0m\u001b[1m \u001b[0m┃\n",
       "┡━━━━━━━━━━━━━━━━━━━━━━━━━━━━━━━━━╇━━━━━━━━━━━━━━━━━━━━━━━━╇━━━━━━━━━━━━━━━┩\n",
       "│ conv2d_2 (\u001b[38;5;33mConv2D\u001b[0m)               │ (\u001b[38;5;45mNone\u001b[0m, \u001b[38;5;34m30\u001b[0m, \u001b[38;5;34m30\u001b[0m, \u001b[38;5;34m64\u001b[0m)     │           \u001b[38;5;34m640\u001b[0m │\n",
       "├─────────────────────────────────┼────────────────────────┼───────────────┤\n",
       "│ max_pooling2d_2 (\u001b[38;5;33mMaxPooling2D\u001b[0m)  │ (\u001b[38;5;45mNone\u001b[0m, \u001b[38;5;34m15\u001b[0m, \u001b[38;5;34m15\u001b[0m, \u001b[38;5;34m64\u001b[0m)     │             \u001b[38;5;34m0\u001b[0m │\n",
       "├─────────────────────────────────┼────────────────────────┼───────────────┤\n",
       "│ dropout_2 (\u001b[38;5;33mDropout\u001b[0m)             │ (\u001b[38;5;45mNone\u001b[0m, \u001b[38;5;34m15\u001b[0m, \u001b[38;5;34m15\u001b[0m, \u001b[38;5;34m64\u001b[0m)     │             \u001b[38;5;34m0\u001b[0m │\n",
       "├─────────────────────────────────┼────────────────────────┼───────────────┤\n",
       "│ conv2d_3 (\u001b[38;5;33mConv2D\u001b[0m)               │ (\u001b[38;5;45mNone\u001b[0m, \u001b[38;5;34m13\u001b[0m, \u001b[38;5;34m13\u001b[0m, \u001b[38;5;34m64\u001b[0m)     │        \u001b[38;5;34m36,928\u001b[0m │\n",
       "├─────────────────────────────────┼────────────────────────┼───────────────┤\n",
       "│ max_pooling2d_3 (\u001b[38;5;33mMaxPooling2D\u001b[0m)  │ (\u001b[38;5;45mNone\u001b[0m, \u001b[38;5;34m6\u001b[0m, \u001b[38;5;34m6\u001b[0m, \u001b[38;5;34m64\u001b[0m)       │             \u001b[38;5;34m0\u001b[0m │\n",
       "├─────────────────────────────────┼────────────────────────┼───────────────┤\n",
       "│ dropout_3 (\u001b[38;5;33mDropout\u001b[0m)             │ (\u001b[38;5;45mNone\u001b[0m, \u001b[38;5;34m6\u001b[0m, \u001b[38;5;34m6\u001b[0m, \u001b[38;5;34m64\u001b[0m)       │             \u001b[38;5;34m0\u001b[0m │\n",
       "├─────────────────────────────────┼────────────────────────┼───────────────┤\n",
       "│ flatten_1 (\u001b[38;5;33mFlatten\u001b[0m)             │ (\u001b[38;5;45mNone\u001b[0m, \u001b[38;5;34m2304\u001b[0m)           │             \u001b[38;5;34m0\u001b[0m │\n",
       "├─────────────────────────────────┼────────────────────────┼───────────────┤\n",
       "│ dense_3 (\u001b[38;5;33mDense\u001b[0m)                 │ (\u001b[38;5;45mNone\u001b[0m, \u001b[38;5;34m128\u001b[0m)            │       \u001b[38;5;34m295,040\u001b[0m │\n",
       "├─────────────────────────────────┼────────────────────────┼───────────────┤\n",
       "│ dense_4 (\u001b[38;5;33mDense\u001b[0m)                 │ (\u001b[38;5;45mNone\u001b[0m, \u001b[38;5;34m64\u001b[0m)             │         \u001b[38;5;34m8,256\u001b[0m │\n",
       "├─────────────────────────────────┼────────────────────────┼───────────────┤\n",
       "│ dense_5 (\u001b[38;5;33mDense\u001b[0m)                 │ (\u001b[38;5;45mNone\u001b[0m, \u001b[38;5;34m46\u001b[0m)             │         \u001b[38;5;34m2,990\u001b[0m │\n",
       "└─────────────────────────────────┴────────────────────────┴───────────────┘\n"
      ]
     },
     "metadata": {},
     "output_type": "display_data"
    },
    {
     "data": {
      "text/html": [
       "<pre style=\"white-space:pre;overflow-x:auto;line-height:normal;font-family:Menlo,'DejaVu Sans Mono',consolas,'Courier New',monospace\"><span style=\"font-weight: bold\"> Total params: </span><span style=\"color: #00af00; text-decoration-color: #00af00\">343,854</span> (1.31 MB)\n",
       "</pre>\n"
      ],
      "text/plain": [
       "\u001b[1m Total params: \u001b[0m\u001b[38;5;34m343,854\u001b[0m (1.31 MB)\n"
      ]
     },
     "metadata": {},
     "output_type": "display_data"
    },
    {
     "data": {
      "text/html": [
       "<pre style=\"white-space:pre;overflow-x:auto;line-height:normal;font-family:Menlo,'DejaVu Sans Mono',consolas,'Courier New',monospace\"><span style=\"font-weight: bold\"> Trainable params: </span><span style=\"color: #00af00; text-decoration-color: #00af00\">343,854</span> (1.31 MB)\n",
       "</pre>\n"
      ],
      "text/plain": [
       "\u001b[1m Trainable params: \u001b[0m\u001b[38;5;34m343,854\u001b[0m (1.31 MB)\n"
      ]
     },
     "metadata": {},
     "output_type": "display_data"
    },
    {
     "data": {
      "text/html": [
       "<pre style=\"white-space:pre;overflow-x:auto;line-height:normal;font-family:Menlo,'DejaVu Sans Mono',consolas,'Courier New',monospace\"><span style=\"font-weight: bold\"> Non-trainable params: </span><span style=\"color: #00af00; text-decoration-color: #00af00\">0</span> (0.00 B)\n",
       "</pre>\n"
      ],
      "text/plain": [
       "\u001b[1m Non-trainable params: \u001b[0m\u001b[38;5;34m0\u001b[0m (0.00 B)\n"
      ]
     },
     "metadata": {},
     "output_type": "display_data"
    },
    {
     "name": "stdout",
     "output_type": "stream",
     "text": [
      "\n",
      "====================\n",
      "\n"
     ]
    }
   ],
   "source": [
    "# Compile the model\n",
    "model.compile(optimizer='adam', loss='sparse_categorical_crossentropy', metrics=['accuracy'])\n",
    "\n",
    "# Display a summary of the model architecture with formatted output\n",
    "print(\"\\n=== Model Summary ===\\n\")\n",
    "model.summary()\n",
    "print(\"\\n====================\\n\")\n"
   ]
  },
  {
   "cell_type": "code",
   "execution_count": 19,
   "id": "3f942f57",
   "metadata": {},
   "outputs": [],
   "source": [
    "# Training the model\n",
    "checkpoint = ModelCheckpoint(\"best_model.keras\", monitor='val_accuracy', verbose=1, save_best_only=True, mode='max')\n",
    "early_stop = EarlyStopping(monitor='val_loss', patience=3, verbose=1, restore_best_weights=True)\n"
   ]
  },
  {
   "cell_type": "code",
   "execution_count": 20,
   "id": "bf7d225b",
   "metadata": {},
   "outputs": [
    {
     "name": "stdout",
     "output_type": "stream",
     "text": [
      "Epoch 1/20\n"
     ]
    },
    {
     "name": "stderr",
     "output_type": "stream",
     "text": [
      "2024-04-29 21:39:59.988119: W external/local_tsl/tsl/framework/cpu_allocator_impl.cc:83] Allocation of 263782400 exceeds 10% of free system memory.\n"
     ]
    },
    {
     "name": "stdout",
     "output_type": "stream",
     "text": [
      "\u001b[1m2010/2013\u001b[0m \u001b[32m━━━━━━━━━━━━━━━━━━━\u001b[0m\u001b[37m━\u001b[0m \u001b[1m0s\u001b[0m 19ms/step - accuracy: 0.6056 - loss: 1.4615"
     ]
    },
    {
     "name": "stderr",
     "output_type": "stream",
     "text": [
      "2024-04-29 21:40:41.037100: W external/local_tsl/tsl/framework/cpu_allocator_impl.cc:83] Allocation of 113049600 exceeds 10% of free system memory.\n"
     ]
    },
    {
     "name": "stdout",
     "output_type": "stream",
     "text": [
      "\n",
      "Epoch 1: val_accuracy improved from -inf to 0.92141, saving model to best_model.keras\n",
      "\u001b[1m2013/2013\u001b[0m \u001b[32m━━━━━━━━━━━━━━━━━━━━\u001b[0m\u001b[37m\u001b[0m \u001b[1m45s\u001b[0m 22ms/step - accuracy: 0.6060 - loss: 1.4601 - val_accuracy: 0.9214 - val_loss: 0.2632\n",
      "Epoch 2/20\n",
      "\u001b[1m2010/2013\u001b[0m \u001b[32m━━━━━━━━━━━━━━━━━━━\u001b[0m\u001b[37m━\u001b[0m \u001b[1m0s\u001b[0m 19ms/step - accuracy: 0.9251 - loss: 0.2408\n",
      "Epoch 2: val_accuracy improved from 0.92141 to 0.95236, saving model to best_model.keras\n",
      "\u001b[1m2013/2013\u001b[0m \u001b[32m━━━━━━━━━━━━━━━━━━━━\u001b[0m\u001b[37m\u001b[0m \u001b[1m43s\u001b[0m 21ms/step - accuracy: 0.9252 - loss: 0.2408 - val_accuracy: 0.9524 - val_loss: 0.1583\n",
      "Epoch 3/20\n",
      "\u001b[1m2012/2013\u001b[0m \u001b[32m━━━━━━━━━━━━━━━━━━━\u001b[0m\u001b[37m━\u001b[0m \u001b[1m0s\u001b[0m 20ms/step - accuracy: 0.9494 - loss: 0.1548\n",
      "Epoch 3: val_accuracy improved from 0.95236 to 0.96261, saving model to best_model.keras\n",
      "\u001b[1m2013/2013\u001b[0m \u001b[32m━━━━━━━━━━━━━━━━━━━━\u001b[0m\u001b[37m\u001b[0m \u001b[1m44s\u001b[0m 22ms/step - accuracy: 0.9494 - loss: 0.1548 - val_accuracy: 0.9626 - val_loss: 0.1231\n",
      "Epoch 4/20\n",
      "\u001b[1m2012/2013\u001b[0m \u001b[32m━━━━━━━━━━━━━━━━━━━\u001b[0m\u001b[37m━\u001b[0m \u001b[1m0s\u001b[0m 20ms/step - accuracy: 0.9633 - loss: 0.1125\n",
      "Epoch 4: val_accuracy improved from 0.96261 to 0.96609, saving model to best_model.keras\n",
      "\u001b[1m2013/2013\u001b[0m \u001b[32m━━━━━━━━━━━━━━━━━━━━\u001b[0m\u001b[37m\u001b[0m \u001b[1m45s\u001b[0m 22ms/step - accuracy: 0.9633 - loss: 0.1125 - val_accuracy: 0.9661 - val_loss: 0.1131\n",
      "Epoch 5/20\n",
      "\u001b[1m2012/2013\u001b[0m \u001b[32m━━━━━━━━━━━━━━━━━━━\u001b[0m\u001b[37m━\u001b[0m \u001b[1m0s\u001b[0m 19ms/step - accuracy: 0.9705 - loss: 0.0901\n",
      "Epoch 5: val_accuracy improved from 0.96609 to 0.96949, saving model to best_model.keras\n",
      "\u001b[1m2013/2013\u001b[0m \u001b[32m━━━━━━━━━━━━━━━━━━━━\u001b[0m\u001b[37m\u001b[0m \u001b[1m81s\u001b[0m 22ms/step - accuracy: 0.9705 - loss: 0.0901 - val_accuracy: 0.9695 - val_loss: 0.1062\n",
      "Epoch 6/20\n",
      "\u001b[1m2012/2013\u001b[0m \u001b[32m━━━━━━━━━━━━━━━━━━━\u001b[0m\u001b[37m━\u001b[0m \u001b[1m0s\u001b[0m 19ms/step - accuracy: 0.9758 - loss: 0.0742\n",
      "Epoch 6: val_accuracy improved from 0.96949 to 0.97014, saving model to best_model.keras\n",
      "\u001b[1m2013/2013\u001b[0m \u001b[32m━━━━━━━━━━━━━━━━━━━━\u001b[0m\u001b[37m\u001b[0m \u001b[1m43s\u001b[0m 21ms/step - accuracy: 0.9758 - loss: 0.0742 - val_accuracy: 0.9701 - val_loss: 0.1029\n",
      "Epoch 7/20\n",
      "\u001b[1m2012/2013\u001b[0m \u001b[32m━━━━━━━━━━━━━━━━━━━\u001b[0m\u001b[37m━\u001b[0m \u001b[1m0s\u001b[0m 20ms/step - accuracy: 0.9775 - loss: 0.0677\n",
      "Epoch 7: val_accuracy improved from 0.97014 to 0.97185, saving model to best_model.keras\n",
      "\u001b[1m2013/2013\u001b[0m \u001b[32m━━━━━━━━━━━━━━━━━━━━\u001b[0m\u001b[37m\u001b[0m \u001b[1m44s\u001b[0m 22ms/step - accuracy: 0.9775 - loss: 0.0677 - val_accuracy: 0.9718 - val_loss: 0.0995\n",
      "Epoch 8/20\n",
      "\u001b[1m2012/2013\u001b[0m \u001b[32m━━━━━━━━━━━━━━━━━━━\u001b[0m\u001b[37m━\u001b[0m \u001b[1m0s\u001b[0m 20ms/step - accuracy: 0.9807 - loss: 0.0604\n",
      "Epoch 8: val_accuracy improved from 0.97185 to 0.97442, saving model to best_model.keras\n",
      "\u001b[1m2013/2013\u001b[0m \u001b[32m━━━━━━━━━━━━━━━━━━━━\u001b[0m\u001b[37m\u001b[0m \u001b[1m44s\u001b[0m 22ms/step - accuracy: 0.9807 - loss: 0.0604 - val_accuracy: 0.9744 - val_loss: 0.0886\n",
      "Epoch 9/20\n",
      "\u001b[1m2010/2013\u001b[0m \u001b[32m━━━━━━━━━━━━━━━━━━━\u001b[0m\u001b[37m━\u001b[0m \u001b[1m0s\u001b[0m 19ms/step - accuracy: 0.9826 - loss: 0.0519\n",
      "Epoch 9: val_accuracy improved from 0.97442 to 0.97685, saving model to best_model.keras\n",
      "\u001b[1m2013/2013\u001b[0m \u001b[32m━━━━━━━━━━━━━━━━━━━━\u001b[0m\u001b[37m\u001b[0m \u001b[1m43s\u001b[0m 21ms/step - accuracy: 0.9826 - loss: 0.0519 - val_accuracy: 0.9768 - val_loss: 0.0854\n",
      "Epoch 10/20\n",
      "\u001b[1m2012/2013\u001b[0m \u001b[32m━━━━━━━━━━━━━━━━━━━\u001b[0m\u001b[37m━\u001b[0m \u001b[1m0s\u001b[0m 19ms/step - accuracy: 0.9840 - loss: 0.0478\n",
      "Epoch 10: val_accuracy improved from 0.97685 to 0.97710, saving model to best_model.keras\n",
      "\u001b[1m2013/2013\u001b[0m \u001b[32m━━━━━━━━━━━━━━━━━━━━\u001b[0m\u001b[37m\u001b[0m \u001b[1m43s\u001b[0m 21ms/step - accuracy: 0.9840 - loss: 0.0478 - val_accuracy: 0.9771 - val_loss: 0.0846\n",
      "Epoch 11/20\n",
      "\u001b[1m2010/2013\u001b[0m \u001b[32m━━━━━━━━━━━━━━━━━━━\u001b[0m\u001b[37m━\u001b[0m \u001b[1m0s\u001b[0m 19ms/step - accuracy: 0.9845 - loss: 0.0453\n",
      "Epoch 11: val_accuracy improved from 0.97710 to 0.97859, saving model to best_model.keras\n",
      "\u001b[1m2013/2013\u001b[0m \u001b[32m━━━━━━━━━━━━━━━━━━━━\u001b[0m\u001b[37m\u001b[0m \u001b[1m42s\u001b[0m 21ms/step - accuracy: 0.9845 - loss: 0.0453 - val_accuracy: 0.9786 - val_loss: 0.0900\n",
      "Epoch 12/20\n",
      "\u001b[1m2012/2013\u001b[0m \u001b[32m━━━━━━━━━━━━━━━━━━━\u001b[0m\u001b[37m━\u001b[0m \u001b[1m0s\u001b[0m 19ms/step - accuracy: 0.9847 - loss: 0.0463\n",
      "Epoch 12: val_accuracy did not improve from 0.97859\n",
      "\u001b[1m2013/2013\u001b[0m \u001b[32m━━━━━━━━━━━━━━━━━━━━\u001b[0m\u001b[37m\u001b[0m \u001b[1m43s\u001b[0m 21ms/step - accuracy: 0.9847 - loss: 0.0463 - val_accuracy: 0.9775 - val_loss: 0.0847\n",
      "Epoch 13/20\n",
      "\u001b[1m2010/2013\u001b[0m \u001b[32m━━━━━━━━━━━━━━━━━━━\u001b[0m\u001b[37m━\u001b[0m \u001b[1m0s\u001b[0m 19ms/step - accuracy: 0.9880 - loss: 0.0353\n",
      "Epoch 13: val_accuracy improved from 0.97859 to 0.97891, saving model to best_model.keras\n",
      "\u001b[1m2013/2013\u001b[0m \u001b[32m━━━━━━━━━━━━━━━━━━━━\u001b[0m\u001b[37m\u001b[0m \u001b[1m42s\u001b[0m 21ms/step - accuracy: 0.9880 - loss: 0.0353 - val_accuracy: 0.9789 - val_loss: 0.0798\n",
      "Epoch 14/20\n",
      "\u001b[1m2011/2013\u001b[0m \u001b[32m━━━━━━━━━━━━━━━━━━━\u001b[0m\u001b[37m━\u001b[0m \u001b[1m0s\u001b[0m 19ms/step - accuracy: 0.9885 - loss: 0.0359\n",
      "Epoch 14: val_accuracy improved from 0.97891 to 0.97913, saving model to best_model.keras\n",
      "\u001b[1m2013/2013\u001b[0m \u001b[32m━━━━━━━━━━━━━━━━━━━━\u001b[0m\u001b[37m\u001b[0m \u001b[1m42s\u001b[0m 21ms/step - accuracy: 0.9885 - loss: 0.0359 - val_accuracy: 0.9791 - val_loss: 0.0826\n",
      "Epoch 15/20\n",
      "\u001b[1m2013/2013\u001b[0m \u001b[32m━━━━━━━━━━━━━━━━━━━━\u001b[0m\u001b[37m\u001b[0m \u001b[1m0s\u001b[0m 19ms/step - accuracy: 0.9881 - loss: 0.0353\n",
      "Epoch 15: val_accuracy did not improve from 0.97913\n",
      "\u001b[1m2013/2013\u001b[0m \u001b[32m━━━━━━━━━━━━━━━━━━━━\u001b[0m\u001b[37m\u001b[0m \u001b[1m42s\u001b[0m 21ms/step - accuracy: 0.9881 - loss: 0.0353 - val_accuracy: 0.9780 - val_loss: 0.0965\n",
      "Epoch 16/20\n",
      "\u001b[1m2013/2013\u001b[0m \u001b[32m━━━━━━━━━━━━━━━━━━━━\u001b[0m\u001b[37m\u001b[0m \u001b[1m0s\u001b[0m 19ms/step - accuracy: 0.9877 - loss: 0.0370\n",
      "Epoch 16: val_accuracy did not improve from 0.97913\n",
      "\u001b[1m2013/2013\u001b[0m \u001b[32m━━━━━━━━━━━━━━━━━━━━\u001b[0m\u001b[37m\u001b[0m \u001b[1m43s\u001b[0m 21ms/step - accuracy: 0.9877 - loss: 0.0370 - val_accuracy: 0.9774 - val_loss: 0.0990\n",
      "Epoch 16: early stopping\n",
      "Restoring model weights from the end of the best epoch: 13.\n"
     ]
    }
   ],
   "source": [
    "history = model.fit(X_train_cnn, y_train_encoded, batch_size=32, epochs=20,\n",
    "                    validation_data=(X_test_cnn, y_test_encoded), callbacks=[checkpoint, early_stop])\n"
   ]
  },
  {
   "cell_type": "code",
   "execution_count": 23,
   "id": "2ced54c2",
   "metadata": {},
   "outputs": [
    {
     "name": "stdout",
     "output_type": "stream",
     "text": [
      "\u001b[1m 15/863\u001b[0m \u001b[37m━━━━━━━━━━━━━━━━━━━━\u001b[0m \u001b[1m6s\u001b[0m 8ms/step - accuracy: 0.9729 - loss: 0.0931"
     ]
    },
    {
     "name": "stderr",
     "output_type": "stream",
     "text": [
      "2024-04-29 21:54:01.665893: W external/local_tsl/tsl/framework/cpu_allocator_impl.cc:83] Allocation of 113049600 exceeds 10% of free system memory.\n"
     ]
    },
    {
     "name": "stdout",
     "output_type": "stream",
     "text": [
      "\u001b[1m863/863\u001b[0m \u001b[32m━━━━━━━━━━━━━━━━━━━━\u001b[0m\u001b[37m\u001b[0m \u001b[1m5s\u001b[0m 6ms/step - accuracy: 0.9796 - loss: 0.0778\n",
      "Model Evaluation:\n",
      "Test Loss:     0.0798\n",
      "Test Accuracy: 0.9789\n"
     ]
    }
   ],
   "source": [
    "# Model evaluation\n",
    "loss, accuracy = model.evaluate(X_test_cnn, y_test_encoded)\n",
    "print(\"Model Evaluation:\")\n",
    "print(f\"Test Loss:     {loss:.4f}\")\n",
    "print(f\"Test Accuracy: {accuracy:.4f}\")\n"
   ]
  },
  {
   "cell_type": "code",
   "execution_count": 24,
   "id": "52824612",
   "metadata": {},
   "outputs": [
    {
     "data": {
      "image/png": "[encoded data removed]",
      "text/plain": [
       "<Figure size 720x432 with 1 Axes>"
      ]
     },
     "metadata": {
      "needs_background": "light"
     },
     "output_type": "display_data"
    }
   ],
   "source": [
    "# Plot training history\n",
    "plt.figure(figsize=(10, 6))\n",
    "plt.plot(history.history['accuracy'], label='Training Accuracy', color='blue', linestyle='-')\n",
    "plt.plot(history.history['val_accuracy'], label='Validation Accuracy', color='orange', linestyle='-')\n",
    "plt.title('Training and Validation Accuracy')\n",
    "plt.xlabel('Epoch')\n",
    "plt.ylabel('Accuracy')\n",
    "plt.legend()\n",
    "plt.grid(True)\n",
    "plt.show()\n"
   ]
  },
  {
   "cell_type": "code",
   "execution_count": 25,
   "id": "7e6eeba2",
   "metadata": {},
   "outputs": [
    {
     "data": {
      "image/png": "[encoded data removed]",
      "text/plain": [
       "<Figure size 720x432 with 1 Axes>"
      ]
     },
     "metadata": {
      "needs_background": "light"
     },
     "output_type": "display_data"
    }
   ],
   "source": [
    "# Plot training and validation loss\n",
    "plt.figure(figsize=(10, 6))\n",
    "plt.plot(history.history['loss'], label='Training Loss', color='blue', linestyle='-')\n",
    "plt.plot(history.history['val_loss'], label='Validation Loss', color='orange', linestyle='-')\n",
    "plt.title('Training and Validation Loss')\n",
    "plt.xlabel('Epoch')\n",
    "plt.ylabel('Loss')\n",
    "plt.legend()\n",
    "plt.grid(True)\n",
    "plt.show()\n"
   ]
  },
  {
   "cell_type": "code",
   "execution_count": 39,
   "id": "b3bf36d6",
   "metadata": {},
   "outputs": [
    {
     "name": "stdout",
     "output_type": "stream",
     "text": [
      "Classification Report:\n",
      "                           precision    recall  f1-score   support\n",
      "\n",
      "          character_01_ka       0.99      0.99      0.99       605\n",
      "         character_02_kha       0.99      0.98      0.98       591\n",
      "          character_03_ga       0.99      0.99      0.99       567\n",
      "         character_04_gha       0.94      0.97      0.96       603\n",
      "         character_05_kna       0.99      0.97      0.98       618\n",
      "         character_06_cha       0.98      0.99      0.99       598\n",
      "        character_07_chha       0.96      0.98      0.97       566\n",
      "          character_08_ja       0.98      0.99      0.98       601\n",
      "         character_09_jha       1.00      0.98      0.99       594\n",
      "         character_10_yna       0.99      0.97      0.98       570\n",
      "    character_11_taamatar       0.98      0.95      0.97       621\n",
      "        character_12_thaa       0.98      0.99      0.98       567\n",
      "         character_13_daa       0.97      0.98      0.98       605\n",
      "        character_14_dhaa       0.96      0.97      0.97       571\n",
      "        character_15_adna       0.99      0.99      0.99       598\n",
      "      character_16_tabala       0.96      0.99      0.97       590\n",
      "         character_17_tha       0.96      0.96      0.96       641\n",
      "          character_18_da       0.96      0.94      0.95       635\n",
      "         character_19_dha       0.96      0.96      0.96       612\n",
      "          character_20_na       0.98      0.97      0.97       612\n",
      "          character_21_pa       0.98      0.97      0.98       630\n",
      "         character_22_pha       0.97      1.00      0.98       602\n",
      "          character_23_ba       0.98      0.94      0.96       608\n",
      "         character_24_bha       0.97      0.98      0.98       606\n",
      "          character_25_ma       0.97      0.99      0.98       583\n",
      "         character_26_yaw       0.97      0.95      0.96       599\n",
      "          character_27_ra       0.98      0.99      0.99       603\n",
      "          character_28_la       0.99      0.99      0.99       602\n",
      "         character_29_waw       0.95      0.97      0.96       602\n",
      "     character_30_motosaw       0.99      0.99      0.99       595\n",
      "character_31_petchiryakha       0.98      0.98      0.98       566\n",
      "   character_32_patalosaw       0.99      0.96      0.97       601\n",
      "          character_33_ha       0.98      0.98      0.98       647\n",
      "       character_34_chhya       0.99      0.97      0.98       604\n",
      "         character_35_tra       0.99      0.99      0.99       628\n",
      "         character_36_gya       0.99      0.97      0.98       612\n",
      "                  digit_0       1.00      0.99      0.99       618\n",
      "                  digit_1       0.99      1.00      0.99       591\n",
      "                  digit_2       0.98      0.98      0.98       583\n",
      "                  digit_3       0.99      0.99      0.99       583\n",
      "                  digit_4       0.99      0.99      0.99       609\n",
      "                  digit_5       1.00      0.99      0.99       582\n",
      "                  digit_6       0.99      0.99      0.99       607\n",
      "                  digit_7       1.00      0.99      1.00       602\n",
      "                  digit_8       0.95      1.00      0.97       602\n",
      "                  digit_9       0.99      1.00      0.99       570\n",
      "\n",
      "                 accuracy                           0.98     27600\n",
      "                macro avg       0.98      0.98      0.98     27600\n",
      "             weighted avg       0.98      0.98      0.98     27600\n",
      "\n"
     ]
    }
   ],
   "source": [
    "# Classification report\n",
    "class_report = classification_report(y_test_encoded, y_pred, target_names=label_encoder.classes_)\n",
    "print(\"Classification Report:\")\n",
    "print(class_report)"
   ]
  },
  {
   "cell_type": "code",
   "execution_count": null,
   "id": "20b805e3",
   "metadata": {},
   "outputs": [],
   "source": []
  }
 ],
 "metadata": {
  "kernelspec": {
   "display_name": "Python 3 (ipykernel)",
   "language": "python",
   "name": "python3"
  },
  "language_info": {
   "codemirror_mode": {
    "name": "ipython",
    "version": 3
   },
   "file_extension": ".py",
   "mimetype": "text/x-python",
   "name": "python",
   "nbconvert_exporter": "python",
   "pygments_lexer": "ipython3",
   "version": "3.10.12"
  }
 },
 "nbformat": 4,
 "nbformat_minor": 5
}
